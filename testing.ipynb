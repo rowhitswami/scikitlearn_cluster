{
 "cells": [
  {
   "cell_type": "code",
   "execution_count": 63,
   "metadata": {},
   "outputs": [],
   "source": [
    "import pandas as pd\n",
    "import re\n",
    "import matplotlib.pyplot as plt\n",
    "import seaborn as sns\n",
    "%matplotlib inline \n",
    "import numpy as np"
   ]
  },
  {
   "cell_type": "code",
   "execution_count": 118,
   "metadata": {},
   "outputs": [
    {
     "data": {
      "text/html": [
       "<div>\n",
       "<style scoped>\n",
       "    .dataframe tbody tr th:only-of-type {\n",
       "        vertical-align: middle;\n",
       "    }\n",
       "\n",
       "    .dataframe tbody tr th {\n",
       "        vertical-align: top;\n",
       "    }\n",
       "\n",
       "    .dataframe thead th {\n",
       "        text-align: right;\n",
       "    }\n",
       "</style>\n",
       "<table border=\"1\" class=\"dataframe\">\n",
       "  <thead>\n",
       "    <tr style=\"text-align: right;\">\n",
       "      <th></th>\n",
       "      <th>screen_name</th>\n",
       "      <th>name</th>\n",
       "      <th>cat</th>\n",
       "      <th>sub_cat</th>\n",
       "      <th>description</th>\n",
       "      <th>location</th>\n",
       "      <th>city</th>\n",
       "    </tr>\n",
       "  </thead>\n",
       "  <tbody>\n",
       "    <tr>\n",
       "      <th>0</th>\n",
       "      <td>narendramodi</td>\n",
       "      <td>Narendra Modi</td>\n",
       "      <td>political</td>\n",
       "      <td>minister</td>\n",
       "      <td>Prime Minister of India</td>\n",
       "      <td>India</td>\n",
       "      <td>NaN</td>\n",
       "    </tr>\n",
       "    <tr>\n",
       "      <th>1</th>\n",
       "      <td>iamsrk</td>\n",
       "      <td>Shah Rukh Khan</td>\n",
       "      <td></td>\n",
       "      <td></td>\n",
       "      <td>NaN</td>\n",
       "      <td>NaN</td>\n",
       "      <td>NaN</td>\n",
       "    </tr>\n",
       "    <tr>\n",
       "      <th>2</th>\n",
       "      <td>SrBachchan</td>\n",
       "      <td>Amitabh Bachchan</td>\n",
       "      <td></td>\n",
       "      <td></td>\n",
       "      <td>Actor ... well at least some are STILL saying ...</td>\n",
       "      <td>Mumbai, India</td>\n",
       "      <td>Mumbai</td>\n",
       "    </tr>\n",
       "    <tr>\n",
       "      <th>3</th>\n",
       "      <td>BeingSalmanKhan</td>\n",
       "      <td>Salman Khan</td>\n",
       "      <td>bollywood</td>\n",
       "      <td>film, films</td>\n",
       "      <td>Film actor, artist, painter, humanitarian</td>\n",
       "      <td>MUMBAI</td>\n",
       "      <td>Mumbai</td>\n",
       "    </tr>\n",
       "    <tr>\n",
       "      <th>4</th>\n",
       "      <td>akshaykumar</td>\n",
       "      <td>Akshay Kumar</td>\n",
       "      <td></td>\n",
       "      <td></td>\n",
       "      <td>NaN</td>\n",
       "      <td>NaN</td>\n",
       "      <td>NaN</td>\n",
       "    </tr>\n",
       "  </tbody>\n",
       "</table>\n",
       "</div>"
      ],
      "text/plain": [
       "       screen_name              name        cat      sub_cat  \\\n",
       "0     narendramodi     Narendra Modi  political     minister   \n",
       "1           iamsrk    Shah Rukh Khan                           \n",
       "2       SrBachchan  Amitabh Bachchan                           \n",
       "3  BeingSalmanKhan       Salman Khan  bollywood  film, films   \n",
       "4      akshaykumar      Akshay Kumar                           \n",
       "\n",
       "                                         description       location    city  \n",
       "0                            Prime Minister of India          India     NaN  \n",
       "1                                                NaN            NaN     NaN  \n",
       "2  Actor ... well at least some are STILL saying ...  Mumbai, India  Mumbai  \n",
       "3          Film actor, artist, painter, humanitarian         MUMBAI  Mumbai  \n",
       "4                                                NaN            NaN     NaN  "
      ]
     },
     "execution_count": 118,
     "metadata": {},
     "output_type": "execute_result"
    }
   ],
   "source": [
    "df = pd.read_csv('top_handles.csv',error_bad_lines=True, encoding = \"ISO-8859-1\")\n",
    "df['cat'] = df['cat'].str.replace('[', '')\n",
    "df['cat'] = df['cat'].str.replace(']', '')\n",
    "df['cat'] = df['cat'].str.replace('\"', '')\n",
    "df['cat'] = df['cat'].str.replace(',', ', ')\n",
    "df['sub_cat'] = df['sub_cat'].str.replace('[', '')\n",
    "df['sub_cat'] = df['sub_cat'].str.replace(']', '')\n",
    "df['sub_cat'] = df['sub_cat'].str.replace('\"', '')\n",
    "df['sub_cat'] = df['sub_cat'].str.replace(',', ', ')\n",
    "df.head()"
   ]
  },
  {
   "cell_type": "code",
   "execution_count": 119,
   "metadata": {},
   "outputs": [],
   "source": [
    "def remove_non_ascii(name):\n",
    "    return ''.join(i for i in str(name) if ord(i)<128)\n",
    " \n",
    "df['name'] = df['name'] .apply(remove_non_ascii)\n",
    "df['name'] =df['name'] .str.replace('_', '')\n",
    "df['description'] = df['description'] .apply(remove_non_ascii)\n",
    "df['description'] =df['description'] .str.replace('_', '')\n",
    "df['location'] = df['location'] .apply(remove_non_ascii)\n",
    "df['location'] =df['location'] .str.replace('_', '')"
   ]
  },
  {
   "cell_type": "code",
   "execution_count": null,
   "metadata": {},
   "outputs": [],
   "source": []
  }
 ],
 "metadata": {
  "kernelspec": {
   "display_name": "Python 3",
   "language": "python",
   "name": "python3"
  },
  "language_info": {
   "codemirror_mode": {
    "name": "ipython",
    "version": 3
   },
   "file_extension": ".py",
   "mimetype": "text/x-python",
   "name": "python",
   "nbconvert_exporter": "python",
   "pygments_lexer": "ipython3",
   "version": "3.6.4"
  }
 },
 "nbformat": 4,
 "nbformat_minor": 2
}
